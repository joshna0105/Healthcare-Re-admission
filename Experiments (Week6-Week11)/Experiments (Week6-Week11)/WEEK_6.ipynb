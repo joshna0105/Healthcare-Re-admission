{
 "cells": [
  {
   "cell_type": "code",
   "execution_count": 9,
   "id": "2db534b8-2395-4941-95e3-8c788bfdfb2d",
   "metadata": {},
   "outputs": [
    {
     "data": {
      "text/html": [
       "\n",
       "        <div>\n",
       "            <p><b>SparkContext</b></p>\n",
       "\n",
       "            <p><a href=\"http://DESKTOP-R9FKK5N.mshome.net:4040\">Spark UI</a></p>\n",
       "\n",
       "            <dl>\n",
       "              <dt>Version</dt>\n",
       "                <dd><code>v4.0.1</code></dd>\n",
       "              <dt>Master</dt>\n",
       "                <dd><code>local[*]</code></dd>\n",
       "              <dt>AppName</dt>\n",
       "                <dd><code>PySparkShell</code></dd>\n",
       "            </dl>\n",
       "        </div>\n",
       "        "
      ],
      "text/plain": [
       "<SparkContext master=local[*] appName=PySparkShell>"
      ]
     },
     "execution_count": 9,
     "metadata": {},
     "output_type": "execute_result"
    }
   ],
   "source": [
    "sc"
   ]
  },
  {
   "cell_type": "code",
   "execution_count": 1,
   "id": "5cf517f8-0e4c-46f8-8b56-d47614076070",
   "metadata": {},
   "outputs": [],
   "source": [
    " import random"
   ]
  },
  {
   "cell_type": "code",
   "execution_count": 2,
   "id": "0eb2dece-2321-4610-82e0-5c9356c46fa6",
   "metadata": {},
   "outputs": [
    {
     "name": "stdout",
     "output_type": "stream",
     "text": [
      "Original List:\n",
      "[552, 654, 782, 709, 707, 743, 388, 133, 248, 374, 651, 582, 180, 800, 289, 997, 654, 205, 222, 949, 584, 998, 907, 831, 125, 328, 572, 671, 776, 77, 593, 290, 571, 893, 407, 88, 622, 409, 543, 533, 186, 621, 286, 320, 751, 455, 171, 405, 378, 93, 780, 597, 24, 813, 306, 589, 580, 429, 240, 804, 631, 334, 38, 639, 736, 981, 515, 338, 374, 433, 40, 738, 209, 799, 208, 777, 13, 60, 135, 754, 953, 960, 463, 276, 988, 980, 2, 288, 761, 69, 363, 208, 760, 219, 553, 440, 981, 721, 450, 821]\n"
     ]
    }
   ],
   "source": [
    " random_numbers = [random.randint(1, 1000) for _ in range(100)]\n",
    " print(\"Original List:\")\n",
    " print(random_numbers)"
   ]
  },
  {
   "cell_type": "code",
   "execution_count": 3,
   "id": "a8fa8f60-125d-4fd6-9b1d-6140f451431c",
   "metadata": {},
   "outputs": [],
   "source": [
    " numbers_rdd = sc.parallelize(random_numbers)"
   ]
  },
  {
   "cell_type": "code",
   "execution_count": 4,
   "id": "606575c2-daa5-41de-a9b5-09c8904da77f",
   "metadata": {},
   "outputs": [],
   "source": [
    "even_numbers_rdd = numbers_rdd.filter(lambda x: x % 2 == 0)"
   ]
  },
  {
   "cell_type": "code",
   "execution_count": 8,
   "id": "804604bc-d72d-44d0-9b71-4a178faabb87",
   "metadata": {},
   "outputs": [
    {
     "name": "stdout",
     "output_type": "stream",
     "text": [
      "\n",
      "Even Numbers:\n",
      "[552, 654, 782, 388, 248, 374, 582, 180, 800, 654, 222, 584, 998, 328, 572, 776, 290, 88, 622, 186, 286, 320, 378, 780, 24, 306, 580, 240, 804, 334, 38, 736, 338, 374, 40, 738, 208, 60, 754, 960, 276, 988, 980, 2, 288, 208, 760, 440, 450]\n"
     ]
    }
   ],
   "source": [
    "even_numbers = even_numbers_rdd.collect()\n",
    "print(\"\\nEven Numbers:\")\n",
    "print(even_numbers)"
   ]
  },
  {
   "cell_type": "code",
   "execution_count": null,
   "id": "a19a17f0-a2a8-4d4d-bf36-7df18399d6d7",
   "metadata": {},
   "outputs": [],
   "source": []
  }
 ],
 "metadata": {
  "kernelspec": {
   "display_name": "Python 3 (ipykernel)",
   "language": "python",
   "name": "python3"
  },
  "language_info": {
   "codemirror_mode": {
    "name": "ipython",
    "version": 3
   },
   "file_extension": ".py",
   "mimetype": "text/x-python",
   "name": "python",
   "nbconvert_exporter": "python",
   "pygments_lexer": "ipython3",
   "version": "3.11.0"
  }
 },
 "nbformat": 4,
 "nbformat_minor": 5
}
