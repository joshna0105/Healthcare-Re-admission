{
 "cells": [
  {
   "cell_type": "code",
   "execution_count": 1,
   "id": "dcb39d84-1b49-460d-ae9d-a4c2e20c69d3",
   "metadata": {},
   "outputs": [
    {
     "data": {
      "text/html": [
       "\n",
       "        <div>\n",
       "            <p><b>SparkContext</b></p>\n",
       "\n",
       "            <p><a href=\"http://DESKTOP-R9FKK5N.mshome.net:4042\">Spark UI</a></p>\n",
       "\n",
       "            <dl>\n",
       "              <dt>Version</dt>\n",
       "                <dd><code>v4.0.1</code></dd>\n",
       "              <dt>Master</dt>\n",
       "                <dd><code>local[*]</code></dd>\n",
       "              <dt>AppName</dt>\n",
       "                <dd><code>PySparkShell</code></dd>\n",
       "            </dl>\n",
       "        </div>\n",
       "        "
      ],
      "text/plain": [
       "<SparkContext master=local[*] appName=PySparkShell>"
      ]
     },
     "execution_count": 1,
     "metadata": {},
     "output_type": "execute_result"
    }
   ],
   "source": [
    "sc"
   ]
  },
  {
   "cell_type": "code",
   "execution_count": 8,
   "id": "12004aaf-9521-49be-93de-abef63b425df",
   "metadata": {},
   "outputs": [],
   "source": [
    "from pyspark.sql import SparkSession\n",
    "from pyspark.sql.functions import col, avg, round, max\n",
    "\n",
    "spark = SparkSession.builder.appName(\"StudentsDataFrameExample\").getOrCreate()"
   ]
  },
  {
   "cell_type": "code",
   "execution_count": 3,
   "id": "a4a6412e-aa08-47d9-a042-f3ff53d6e190",
   "metadata": {},
   "outputs": [],
   "source": [
    "df = spark.read.csv(\"students.csv\", header=True, inferSchema=True)"
   ]
  },
  {
   "cell_type": "code",
   "execution_count": 4,
   "id": "2d0e39d6-1c67-4d1e-b46c-a59c220991e7",
   "metadata": {},
   "outputs": [
    {
     "name": "stdout",
     "output_type": "stream",
     "text": [
      "=== First 10 rows ===\n",
      "+---+-------+---+------+----+-------+-------+\n",
      "| id|   name|age|gender|math|science|english|\n",
      "+---+-------+---+------+----+-------+-------+\n",
      "|  1|  Alice| 20|     F|  66|     92|     44|\n",
      "|  2|    Bob| 20|     M|  82|     52|     77|\n",
      "|  3|Charlie| 22|     F|  43|     57|     76|\n",
      "|  4|  David| 19|     M|  95|     69|     46|\n",
      "|  5|    Eva| 19|     F|  62|     44|     96|\n",
      "|  6|  Frank| 22|     F|  70|     78|     94|\n",
      "|  7|  Grace| 24|     F|  67|     66|     93|\n",
      "|  8|  Henry| 21|     F|  53|     82|     60|\n",
      "|  9|    Ivy| 19|     M|  64|     52|     46|\n",
      "| 10|   Jack| 19|     F|  44|     59|     60|\n",
      "+---+-------+---+------+----+-------+-------+\n",
      "only showing top 10 rows\n"
     ]
    }
   ],
   "source": [
    "print(\"=== First 10 rows ===\")\n",
    "df.show(10)"
   ]
  },
  {
   "cell_type": "code",
   "execution_count": 5,
   "id": "c18e1c8f-6f4d-4f69-a87b-d62429659047",
   "metadata": {},
   "outputs": [
    {
     "name": "stdout",
     "output_type": "stream",
     "text": [
      "=== Schema ===\n",
      "root\n",
      " |-- id: integer (nullable = true)\n",
      " |-- name: string (nullable = true)\n",
      " |-- age: integer (nullable = true)\n",
      " |-- gender: string (nullable = true)\n",
      " |-- math: integer (nullable = true)\n",
      " |-- science: integer (nullable = true)\n",
      " |-- english: integer (nullable = true)\n",
      "\n"
     ]
    }
   ],
   "source": [
    "print(\"=== Schema ===\")\n",
    "df.printSchema()"
   ]
  },
  {
   "cell_type": "code",
   "execution_count": 6,
   "id": "d6fac127-a31a-4235-aa4e-df9f8a25287a",
   "metadata": {},
   "outputs": [
    {
     "name": "stdout",
     "output_type": "stream",
     "text": [
      "=== Datatypes ===\n",
      "[('id', 'int'), ('name', 'string'), ('age', 'int'), ('gender', 'string'), ('math', 'int'), ('science', 'int'), ('english', 'int')]\n"
     ]
    }
   ],
   "source": [
    "print(\"=== Datatypes ===\")\n",
    "print(df.dtypes)"
   ]
  },
  {
   "cell_type": "code",
   "execution_count": 7,
   "id": "03047c83-3b32-4136-9a73-b59788b6a194",
   "metadata": {},
   "outputs": [
    {
     "name": "stdout",
     "output_type": "stream",
     "text": [
      "=== Summary statistics ===\n",
      "+-------+------------------+-----+------------------+------+------------------+------------------+-----------------+\n",
      "|summary|                id| name|               age|gender|              math|           science|          english|\n",
      "+-------+------------------+-----+------------------+------+------------------+------------------+-----------------+\n",
      "|  count|                50|   50|                50|    50|                50|                50|               50|\n",
      "|   mean|              25.5| NULL|              21.5|  NULL|             68.94|             70.16|            69.36|\n",
      "| stddev|14.577379737113251| NULL|2.2337851101588404|  NULL|17.609610085034216|14.636214521186957|18.74507826560544|\n",
      "|    min|                 1|Aaron|                18|     F|                40|                44|               42|\n",
      "|    max|                50| Zoey|                25|     M|               100|                99|              100|\n",
      "+-------+------------------+-----+------------------+------+------------------+------------------+-----------------+\n",
      "\n"
     ]
    }
   ],
   "source": [
    "print(\"=== Summary statistics ===\")\n",
    "df.describe().show()"
   ]
  },
  {
   "cell_type": "code",
   "execution_count": 9,
   "id": "d4f1b8de-aaf7-47f8-a1ca-0e3a75973095",
   "metadata": {},
   "outputs": [
    {
     "name": "stdout",
     "output_type": "stream",
     "text": [
      "Total rows: 50\n",
      "Columns: ['id', 'name', 'age', 'gender', 'math', 'science', 'english']\n"
     ]
    }
   ],
   "source": [
    "print(\"Total rows:\", df.count())\n",
    "print(\"Columns:\", df.columns)"
   ]
  },
  {
   "cell_type": "code",
   "execution_count": 10,
   "id": "77ff8947-3664-44a3-8aaa-73149deb5bdc",
   "metadata": {},
   "outputs": [
    {
     "name": "stdout",
     "output_type": "stream",
     "text": [
      "\n",
      "=== Select name, age, and math columns ===\n",
      "+-------+---+----+\n",
      "|   name|age|math|\n",
      "+-------+---+----+\n",
      "|  Alice| 20|  66|\n",
      "|    Bob| 20|  82|\n",
      "|Charlie| 22|  43|\n",
      "|  David| 19|  95|\n",
      "|    Eva| 19|  62|\n",
      "|  Frank| 22|  70|\n",
      "|  Grace| 24|  67|\n",
      "|  Henry| 21|  53|\n",
      "|    Ivy| 19|  64|\n",
      "|   Jack| 19|  44|\n",
      "+-------+---+----+\n",
      "only showing top 10 rows\n"
     ]
    }
   ],
   "source": [
    "print(\"\\n=== Select name, age, and math columns ===\")\n",
    "df.select(\"name\", \"age\", \"math\").show(10)"
   ]
  },
  {
   "cell_type": "code",
   "execution_count": 11,
   "id": "33d528f0-f8be-4263-b532-771625231875",
   "metadata": {},
   "outputs": [
    {
     "name": "stdout",
     "output_type": "stream",
     "text": [
      "\n",
      "=== Students with age >= 21 and math >= 70 ===\n"
     ]
    }
   ],
   "source": [
    "print(\"\\n=== Students with age >= 21 and math >= 70 ===\")"
   ]
  },
  {
   "cell_type": "code",
   "execution_count": 12,
   "id": "70cffcda-509d-4d52-acf8-bd32b03ca3d6",
   "metadata": {},
   "outputs": [
    {
     "name": "stdout",
     "output_type": "stream",
     "text": [
      "\n",
      "=== Dataset with new column 'average' ===\n",
      "+---+-------+---+------+----+-------+-------+-------+\n",
      "| id|   name|age|gender|math|science|english|average|\n",
      "+---+-------+---+------+----+-------+-------+-------+\n",
      "|  1|  Alice| 20|     F|  66|     92|     44|  67.33|\n",
      "|  2|    Bob| 20|     M|  82|     52|     77|  70.33|\n",
      "|  3|Charlie| 22|     F|  43|     57|     76|  58.67|\n",
      "|  4|  David| 19|     M|  95|     69|     46|   70.0|\n",
      "|  5|    Eva| 19|     F|  62|     44|     96|  67.33|\n",
      "|  6|  Frank| 22|     F|  70|     78|     94|  80.67|\n",
      "|  7|  Grace| 24|     F|  67|     66|     93|  75.33|\n",
      "|  8|  Henry| 21|     F|  53|     82|     60|   65.0|\n",
      "|  9|    Ivy| 19|     M|  64|     52|     46|   54.0|\n",
      "| 10|   Jack| 19|     F|  44|     59|     60|  54.33|\n",
      "+---+-------+---+------+----+-------+-------+-------+\n",
      "only showing top 10 rows\n"
     ]
    }
   ],
   "source": [
    "df_with_avg = df.withColumn(\"average\", round((col(\"math\") + col(\"science\") + col(\"english\")) / 3, 2))\n",
    "print(\"\\n=== Dataset with new column 'average' ===\")\n",
    "df_with_avg.show(10)"
   ]
  },
  {
   "cell_type": "code",
   "execution_count": 13,
   "id": "0a2e1976-9f24-4713-bebd-88e69f15eb7f",
   "metadata": {},
   "outputs": [
    {
     "name": "stdout",
     "output_type": "stream",
     "text": [
      "\n",
      "=== Students with average >= 75 (sorted) ===\n",
      "+---+------+---+------+----+-------+-------+-------+\n",
      "| id|  name|age|gender|math|science|english|average|\n",
      "+---+------+---+------+----+-------+-------+-------+\n",
      "| 12|   Leo| 24|     M|  97|     84|     83|   88.0|\n",
      "| 15|Olivia| 18|     M|  87|     90|     87|   88.0|\n",
      "| 44|  Rita| 24|     M|  90|     82|     88|  86.67|\n",
      "| 11| Kathy| 25|     M|  85|     71|     89|  81.67|\n",
      "| 33|George| 22|     M|  66|     95|     84|  81.67|\n",
      "|  6| Frank| 22|     F|  70|     78|     94|  80.67|\n",
      "| 41| Oscar| 20|     M|  87|     72|     81|   80.0|\n",
      "| 21|   Uma| 19|     F|  89|     70|     76|  78.33|\n",
      "| 37|  Kyle| 21|     M|  57|     86|     92|  78.33|\n",
      "| 39|  Matt| 25|     M|  64|     71|    100|  78.33|\n",
      "+---+------+---+------+----+-------+-------+-------+\n",
      "only showing top 10 rows\n"
     ]
    }
   ],
   "source": [
    "print(\"\\n=== Students with average >= 75 (sorted) ===\")\n",
    "df_with_avg.filter(col(\"average\") >= 75).orderBy(col(\"average\").desc()).show(10)"
   ]
  },
  {
   "cell_type": "code",
   "execution_count": 14,
   "id": "219d240c-f4ed-45d1-948c-a6d347ea734c",
   "metadata": {},
   "outputs": [
    {
     "name": "stdout",
     "output_type": "stream",
     "text": [
      "\n",
      "=== Average marks by gender ===\n",
      "+------+--------+-----------+-----------+-----------+\n",
      "|gender|avg_math|avg_science|avg_english|overall_avg|\n",
      "+------+--------+-----------+-----------+-----------+\n",
      "|     F|   63.86|      68.55|      70.55|      67.66|\n",
      "|     M|   75.95|      72.38|      67.71|      72.02|\n",
      "+------+--------+-----------+-----------+-----------+\n",
      "\n"
     ]
    }
   ],
   "source": [
    "print(\"\\n=== Average marks by gender ===\")\n",
    "df_with_avg.groupBy(\"gender\").agg(\n",
    " round(avg(\"math\"), 2).alias(\"avg_math\"),\n",
    " round(avg(\"science\"), 2).alias(\"avg_science\"),\n",
    " round(avg(\"english\"), 2).alias(\"avg_english\"),\n",
    " round(avg(\"average\"), 2).alias(\"overall_avg\")\n",
    ").show()"
   ]
  },
  {
   "cell_type": "code",
   "execution_count": null,
   "id": "35216d69-1faf-4344-a1be-2028f92a417f",
   "metadata": {},
   "outputs": [],
   "source": []
  }
 ],
 "metadata": {
  "kernelspec": {
   "display_name": "Python 3 (ipykernel)",
   "language": "python",
   "name": "python3"
  },
  "language_info": {
   "codemirror_mode": {
    "name": "ipython",
    "version": 3
   },
   "file_extension": ".py",
   "mimetype": "text/x-python",
   "name": "python",
   "nbconvert_exporter": "python",
   "pygments_lexer": "ipython3",
   "version": "3.11.0"
  }
 },
 "nbformat": 4,
 "nbformat_minor": 5
}
